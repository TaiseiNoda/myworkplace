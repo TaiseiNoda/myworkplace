{
 "cells": [
  {
   "cell_type": "markdown",
   "id": "49bb1da3-5bc2-4c94-9f1e-c206848bd730",
   "metadata": {},
   "source": [
    "Merging transaction CSVs into one spreadsheet\n",
    "https://qiita.com/minamini1985/items/60047ea416cd49721cf3"
   ]
  },
  {
   "cell_type": "code",
   "execution_count": 2,
   "id": "01b091bc-65d1-49a7-b66f-82c0b56264fe",
   "metadata": {},
   "outputs": [],
   "source": [
    "import numpy\n",
    "import pandas as pd\n",
    "import glob"
   ]
  },
  {
   "cell_type": "code",
   "execution_count": 5,
   "id": "7d9c791e-23a5-4717-a4bb-8eb4d06594a2",
   "metadata": {
    "tags": []
   },
   "outputs": [],
   "source": [
    "csv_files = glob.glob('/Users/taise/Library/Mobile Documents/com~apple~CloudDocs/CRA/JSDA/Transaction/*.csv')\n",
    "data_list =[]"
   ]
  },
  {
   "cell_type": "code",
   "execution_count": 6,
   "id": "8b5074c9-286e-43fb-a7b3-c4d96ae8b66e",
   "metadata": {},
   "outputs": [],
   "source": [
    "for file in csv_files:\n",
    "    data_list.append(pd.read_csv(file))"
   ]
  },
  {
   "cell_type": "code",
   "execution_count": 8,
   "id": "23a215aa-6abd-4c0b-b8ea-2afd98f56d58",
   "metadata": {},
   "outputs": [],
   "source": [
    "df = pd.concat(data_list,axis=0,sort=True)\n",
    "df.to_csv(\"/Users/taise/Library/Mobile Documents/com~apple~CloudDocs/CRA/JSDA/Transaction/transactions.csv\",index=False)"
   ]
  },
  {
   "cell_type": "code",
   "execution_count": null,
   "id": "360df041-7a59-4212-b68b-d3178764deef",
   "metadata": {},
   "outputs": [],
   "source": []
  }
 ],
 "metadata": {
  "kernelspec": {
   "display_name": "Python 3",
   "language": "python",
   "name": "python3"
  },
  "language_info": {
   "codemirror_mode": {
    "name": "ipython",
    "version": 3
   },
   "file_extension": ".py",
   "mimetype": "text/x-python",
   "name": "python",
   "nbconvert_exporter": "python",
   "pygments_lexer": "ipython3",
   "version": "3.8.8"
  }
 },
 "nbformat": 4,
 "nbformat_minor": 5
}
